{
 "cells": [
  {
   "cell_type": "code",
   "execution_count": 2,
   "id": "672f16db",
   "metadata": {},
   "outputs": [],
   "source": [
    "from googleapiclient.discovery import build\n",
    "from google.oauth2 import service_account\n",
    "from decouple import config\n",
    "import pandas as pd"
   ]
  },
  {
   "cell_type": "code",
   "execution_count": 3,
   "id": "d599b498",
   "metadata": {},
   "outputs": [],
   "source": [
    "SHEET_ID = config('SHEET_ID')\n",
    "SHEET_KEY_JSON = config('SHEET_KEY_JSON', default='key.json')\n",
    "rango = \"EA!A1:H6\""
   ]
  },
  {
   "cell_type": "code",
   "execution_count": 4,
   "id": "b11d89ce",
   "metadata": {},
   "outputs": [],
   "source": [
    "def LeerSheets(IDsheets,key,rango):\n",
    "    '''\n",
    "    Se conecta a la API de google sheets para obtener la informacion deseada en los rangos especificados\n",
    "    '''\n",
    "    SCOPES = [\"https://www.googleapis.com/auth/spreadsheets\"]\n",
    "\n",
    "    credenciales = service_account.Credentials.from_service_account_file(key, scopes=SCOPES)\n",
    "    servicio = build('sheets', 'V4', credentials=credenciales)\n",
    "    sheet = servicio.spreadsheets()\n",
    "    resultado = sheet.values().get(spreadsheetId=IDsheets, range=rango).execute()\n",
    "    values = resultado.get(\"values\",[])\n",
    "    return values"
   ]
  }
 ],
 "metadata": {
  "kernelspec": {
   "display_name": "venvIntereses",
   "language": "python",
   "name": "python3"
  },
  "language_info": {
   "codemirror_mode": {
    "name": "ipython",
    "version": 3
   },
   "file_extension": ".py",
   "mimetype": "text/x-python",
   "name": "python",
   "nbconvert_exporter": "python",
   "pygments_lexer": "ipython3",
   "version": "3.11.0"
  }
 },
 "nbformat": 4,
 "nbformat_minor": 5
}
