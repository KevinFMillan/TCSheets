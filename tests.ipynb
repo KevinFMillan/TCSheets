{
 "cells": [
  {
   "cell_type": "code",
   "execution_count": 2,
   "id": "672f16db",
   "metadata": {},
   "outputs": [],
   "source": [
    "from googleapiclient.discovery import build\n",
    "from google.oauth2 import service_account\n",
    "from decouple import config\n",
    "import pandas as pd"
   ]
  },
  {
   "cell_type": "code",
   "execution_count": 81,
   "id": "d599b498",
   "metadata": {},
   "outputs": [],
   "source": [
    "SHEET_ID = config('SHEET_ID')\n",
    "SHEET_KEY_JSON = config('SHEET_KEY_JSON', default='key.json')\n",
    "rango = \"EA!A2:D6\"\n",
    "columnasEA = \"EA!A1:D1\""
   ]
  },
  {
   "cell_type": "code",
   "execution_count": 82,
   "id": "b11d89ce",
   "metadata": {},
   "outputs": [],
   "source": [
    "def LeerSheets(IDsheets,key,rango):\n",
    "    '''\n",
    "    Se conecta a la API de google sheets para obtener la informacion deseada en los rangos especificados\n",
    "    '''\n",
    "    SCOPES = [\"https://www.googleapis.com/auth/spreadsheets\"]\n",
    "\n",
    "    credenciales = service_account.Credentials.from_service_account_file(key, scopes=SCOPES)\n",
    "    servicio = build('sheets', 'V4', credentials=credenciales)\n",
    "    sheet = servicio.spreadsheets()\n",
    "    resultado = sheet.values().get(spreadsheetId=IDsheets, range=rango).execute()\n",
    "    values = resultado.get(\"values\",[])\n",
    "    return values"
   ]
  },
  {
   "cell_type": "code",
   "execution_count": 83,
   "id": "96820e2b",
   "metadata": {},
   "outputs": [],
   "source": [
    "datos = LeerSheets(SHEET_ID, SHEET_KEY_JSON, rango)\n",
    "columnas = LeerSheets(SHEET_ID, SHEET_KEY_JSON, columnasEA)"
   ]
  },
  {
   "cell_type": "code",
   "execution_count": 93,
   "id": "b88229c6",
   "metadata": {},
   "outputs": [],
   "source": [
    "def CrearDataFrame(info,cols):\n",
    "    dataFrame = pd.DataFrame(data=info,columns=cols)\n",
    "    return dataFrame"
   ]
  },
  {
   "cell_type": "code",
   "execution_count": 94,
   "id": "ade4da28",
   "metadata": {},
   "outputs": [
    {
     "name": "stdout",
     "output_type": "stream",
     "text": [
      "    AÑO      MES      NU   Rappi\n",
      "0  2025    Enero   0,247    None\n",
      "1  2025  Febrero   0,262    None\n",
      "2  2025    Marzo  0,2454    None\n",
      "3  2025    Abril  0,2523    None\n",
      "4  2025     Mayo  0,2557  0,2555\n"
     ]
    }
   ],
   "source": [
    "dataFrame = CrearDataFrame(datos, columnas)\n",
    "print(dataFrame.head())"
   ]
  }
 ],
 "metadata": {
  "kernelspec": {
   "display_name": "venvIntereses",
   "language": "python",
   "name": "python3"
  },
  "language_info": {
   "codemirror_mode": {
    "name": "ipython",
    "version": 3
   },
   "file_extension": ".py",
   "mimetype": "text/x-python",
   "name": "python",
   "nbconvert_exporter": "python",
   "pygments_lexer": "ipython3",
   "version": "3.11.0"
  }
 },
 "nbformat": 4,
 "nbformat_minor": 5
}
